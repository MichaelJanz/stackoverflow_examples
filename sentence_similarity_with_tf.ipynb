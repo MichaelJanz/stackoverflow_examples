{
 "cells": [
  {
   "cell_type": "markdown",
   "metadata": {},
   "source": [
    "### First, Import necessary modules"
   ]
  },
  {
   "cell_type": "code",
   "execution_count": 8,
   "metadata": {},
   "outputs": [],
   "source": [
    "from tensorflow import keras\n",
    "import pandas as pd\n",
    "import numpy as np"
   ]
  },
  {
   "cell_type": "markdown",
   "metadata": {},
   "source": [
    "### Then we use the BPEmb pretrained word embeddings"
   ]
  },
  {
   "cell_type": "code",
   "execution_count": 11,
   "metadata": {},
   "outputs": [],
   "source": [
    "from bpemb import BPEmb"
   ]
  },
  {
   "cell_type": "code",
   "execution_count": 243,
   "metadata": {},
   "outputs": [
    {
     "name": "stderr",
     "output_type": "stream",
     "text": [
      "  0%|          | 0/4993562 [00:00<?, ?B/s]"
     ]
    },
    {
     "name": "stdout",
     "output_type": "stream",
     "text": [
      "downloading https://nlp.h-its.org/bpemb/en/en.wiki.bpe.vs50000.d25.w2v.bin.tar.gz\n"
     ]
    },
    {
     "name": "stderr",
     "output_type": "stream",
     "text": [
      "100%|██████████| 4993562/4993562 [00:00<00:00, 5804763.94B/s]\n"
     ]
    }
   ],
   "source": [
    "bpemb_en = BPEmb(lang=\"en\", vs=50000, dim=25)"
   ]
  },
  {
   "cell_type": "markdown",
   "metadata": {},
   "source": [
    "### Create example sentences"
   ]
  },
  {
   "cell_type": "code",
   "execution_count": 380,
   "metadata": {},
   "outputs": [],
   "source": [
    "sentences_raw = [\"I like to eat chicken\", \"I prefer to eat pizza\", \"I really really really really like to eat chicken\", \"Chicken is my absolute favourite dish in the evening\", \"The heaven is dark\", \"I like to build sand castles\", \"Where is the time gone to?\"]"
   ]
  },
  {
   "cell_type": "code",
   "execution_count": 314,
   "metadata": {},
   "outputs": [],
   "source": [
    "sentences = np.array([np.array(bpemb_en.embed(x)) for x in sentences_raw])"
   ]
  },
  {
   "cell_type": "markdown",
   "metadata": {},
   "source": [
    "### Create an RNN, which creates a new vector of the embeddings, by summing them up their dimensions"
   ]
  },
  {
   "cell_type": "code",
   "execution_count": 381,
   "metadata": {},
   "outputs": [],
   "source": [
    "rnn = keras.layers.SimpleRNN(3, kernel_initializer=keras.initializers.ones, recurrent_initializer=keras.initializers.zeros, activation=\"tanh\")"
   ]
  },
  {
   "cell_type": "code",
   "execution_count": 382,
   "metadata": {},
   "outputs": [],
   "source": [
    "max_len = max(map(len, sentences))"
   ]
  },
  {
   "cell_type": "code",
   "execution_count": 383,
   "metadata": {},
   "outputs": [],
   "source": [
    "rnn.build(input_shape=(1,max_len,25))"
   ]
  },
  {
   "cell_type": "code",
   "execution_count": 384,
   "metadata": {},
   "outputs": [],
   "source": [
    "def calculate_distances(sentences):\n",
    "    values = {}\n",
    "    for i in range(len(sentences)):\n",
    "        # Set the weights manually, so the length of the sentence will be concerned\n",
    "        rnn.set_weights([rnn.get_weights()[0], tf.constant(1/len(sentences[i]),shape=(3,3)), tf.constant(1/len(sentences[i]),shape=(3))])\n",
    "        values[sentences_raw[i]] = rnn(np.array([sentences[i]]))\n",
    "    # Calculate a simple absolute distance, you might want to use another metric for this\n",
    "    distances = [[np.absolute((l-i2)[0][0]) for i2 in values.values()] for l in values.values()]\n",
    "    df = pd.DataFrame(index=values.keys(), columns=values.keys(), data=distances)\n",
    "    return df"
   ]
  },
  {
   "cell_type": "code",
   "execution_count": 385,
   "metadata": {},
   "outputs": [
    {
     "data": {
      "text/html": [
       "<div>\n",
       "<style scoped>\n",
       "    .dataframe tbody tr th:only-of-type {\n",
       "        vertical-align: middle;\n",
       "    }\n",
       "\n",
       "    .dataframe tbody tr th {\n",
       "        vertical-align: top;\n",
       "    }\n",
       "\n",
       "    .dataframe thead th {\n",
       "        text-align: right;\n",
       "    }\n",
       "</style>\n",
       "<table border=\"1\" class=\"dataframe\">\n",
       "  <thead>\n",
       "    <tr style=\"text-align: right;\">\n",
       "      <th></th>\n",
       "      <th>I like to eat chicken</th>\n",
       "      <th>I prefer to eat pizza</th>\n",
       "      <th>I really really really really like to eat chicken</th>\n",
       "      <th>Chicken is my absolute favourite dish in the evening</th>\n",
       "      <th>The heaven is dark</th>\n",
       "      <th>I like to build sand castles</th>\n",
       "      <th>Where is the time gone to?</th>\n",
       "    </tr>\n",
       "  </thead>\n",
       "  <tbody>\n",
       "    <tr>\n",
       "      <th>I like to eat chicken</th>\n",
       "      <td>0.000000</td>\n",
       "      <td>0.114360</td>\n",
       "      <td>0.075128</td>\n",
       "      <td>0.204332</td>\n",
       "      <td>0.204607</td>\n",
       "      <td>0.174042</td>\n",
       "      <td>0.182740</td>\n",
       "    </tr>\n",
       "    <tr>\n",
       "      <th>I prefer to eat pizza</th>\n",
       "      <td>0.114360</td>\n",
       "      <td>0.000000</td>\n",
       "      <td>0.189488</td>\n",
       "      <td>0.089972</td>\n",
       "      <td>0.090247</td>\n",
       "      <td>0.059682</td>\n",
       "      <td>0.068380</td>\n",
       "    </tr>\n",
       "    <tr>\n",
       "      <th>I really really really really like to eat chicken</th>\n",
       "      <td>0.075128</td>\n",
       "      <td>0.189488</td>\n",
       "      <td>0.000000</td>\n",
       "      <td>0.279460</td>\n",
       "      <td>0.279735</td>\n",
       "      <td>0.249170</td>\n",
       "      <td>0.257868</td>\n",
       "    </tr>\n",
       "    <tr>\n",
       "      <th>Chicken is my absolute favourite dish in the evening</th>\n",
       "      <td>0.204332</td>\n",
       "      <td>0.089972</td>\n",
       "      <td>0.279460</td>\n",
       "      <td>0.000000</td>\n",
       "      <td>0.000275</td>\n",
       "      <td>0.030290</td>\n",
       "      <td>0.021592</td>\n",
       "    </tr>\n",
       "    <tr>\n",
       "      <th>The heaven is dark</th>\n",
       "      <td>0.204607</td>\n",
       "      <td>0.090247</td>\n",
       "      <td>0.279735</td>\n",
       "      <td>0.000275</td>\n",
       "      <td>0.000000</td>\n",
       "      <td>0.030565</td>\n",
       "      <td>0.021867</td>\n",
       "    </tr>\n",
       "    <tr>\n",
       "      <th>I like to build sand castles</th>\n",
       "      <td>0.174042</td>\n",
       "      <td>0.059682</td>\n",
       "      <td>0.249170</td>\n",
       "      <td>0.030290</td>\n",
       "      <td>0.030565</td>\n",
       "      <td>0.000000</td>\n",
       "      <td>0.008698</td>\n",
       "    </tr>\n",
       "    <tr>\n",
       "      <th>Where is the time gone to?</th>\n",
       "      <td>0.182740</td>\n",
       "      <td>0.068380</td>\n",
       "      <td>0.257868</td>\n",
       "      <td>0.021592</td>\n",
       "      <td>0.021867</td>\n",
       "      <td>0.008698</td>\n",
       "      <td>0.000000</td>\n",
       "    </tr>\n",
       "  </tbody>\n",
       "</table>\n",
       "</div>"
      ],
      "text/plain": [
       "                                                    I like to eat chicken  \\\n",
       "I like to eat chicken                                            0.000000   \n",
       "I prefer to eat pizza                                            0.114360   \n",
       "I really really really really like to eat chicken                0.075128   \n",
       "Chicken is my absolute favourite dish in the ev...               0.204332   \n",
       "The heaven is dark                                               0.204607   \n",
       "I like to build sand castles                                     0.174042   \n",
       "Where is the time gone to?                                       0.182740   \n",
       "\n",
       "                                                    I prefer to eat pizza  \\\n",
       "I like to eat chicken                                            0.114360   \n",
       "I prefer to eat pizza                                            0.000000   \n",
       "I really really really really like to eat chicken                0.189488   \n",
       "Chicken is my absolute favourite dish in the ev...               0.089972   \n",
       "The heaven is dark                                               0.090247   \n",
       "I like to build sand castles                                     0.059682   \n",
       "Where is the time gone to?                                       0.068380   \n",
       "\n",
       "                                                    I really really really really like to eat chicken  \\\n",
       "I like to eat chicken                                                                        0.075128   \n",
       "I prefer to eat pizza                                                                        0.189488   \n",
       "I really really really really like to eat chicken                                            0.000000   \n",
       "Chicken is my absolute favourite dish in the ev...                                           0.279460   \n",
       "The heaven is dark                                                                           0.279735   \n",
       "I like to build sand castles                                                                 0.249170   \n",
       "Where is the time gone to?                                                                   0.257868   \n",
       "\n",
       "                                                    Chicken is my absolute favourite dish in the evening  \\\n",
       "I like to eat chicken                                                                        0.204332      \n",
       "I prefer to eat pizza                                                                        0.089972      \n",
       "I really really really really like to eat chicken                                            0.279460      \n",
       "Chicken is my absolute favourite dish in the ev...                                           0.000000      \n",
       "The heaven is dark                                                                           0.000275      \n",
       "I like to build sand castles                                                                 0.030290      \n",
       "Where is the time gone to?                                                                   0.021592      \n",
       "\n",
       "                                                    The heaven is dark  \\\n",
       "I like to eat chicken                                         0.204607   \n",
       "I prefer to eat pizza                                         0.090247   \n",
       "I really really really really like to eat chicken             0.279735   \n",
       "Chicken is my absolute favourite dish in the ev...            0.000275   \n",
       "The heaven is dark                                            0.000000   \n",
       "I like to build sand castles                                  0.030565   \n",
       "Where is the time gone to?                                    0.021867   \n",
       "\n",
       "                                                    I like to build sand castles  \\\n",
       "I like to eat chicken                                                   0.174042   \n",
       "I prefer to eat pizza                                                   0.059682   \n",
       "I really really really really like to eat chicken                       0.249170   \n",
       "Chicken is my absolute favourite dish in the ev...                      0.030290   \n",
       "The heaven is dark                                                      0.030565   \n",
       "I like to build sand castles                                            0.000000   \n",
       "Where is the time gone to?                                              0.008698   \n",
       "\n",
       "                                                    Where is the time gone to?  \n",
       "I like to eat chicken                                                 0.182740  \n",
       "I prefer to eat pizza                                                 0.068380  \n",
       "I really really really really like to eat chicken                     0.257868  \n",
       "Chicken is my absolute favourite dish in the ev...                    0.021592  \n",
       "The heaven is dark                                                    0.021867  \n",
       "I like to build sand castles                                          0.008698  \n",
       "Where is the time gone to?                                            0.000000  "
      ]
     },
     "execution_count": 385,
     "metadata": {},
     "output_type": "execute_result"
    }
   ],
   "source": [
    "calculate_distances(sentences)"
   ]
  },
  {
   "cell_type": "markdown",
   "metadata": {},
   "source": [
    "#### Have the result"
   ]
  },
  {
   "cell_type": "code",
   "execution_count": null,
   "metadata": {},
   "outputs": [],
   "source": []
  }
 ],
 "metadata": {
  "kernelspec": {
   "display_name": "tf_nightly_env2",
   "language": "python",
   "name": "tf_nightly_env2"
  },
  "language_info": {
   "codemirror_mode": {
    "name": "ipython",
    "version": 3
   },
   "file_extension": ".py",
   "mimetype": "text/x-python",
   "name": "python",
   "nbconvert_exporter": "python",
   "pygments_lexer": "ipython3",
   "version": "3.7.7"
  }
 },
 "nbformat": 4,
 "nbformat_minor": 4
}
